{
 "cells": [
  {
   "cell_type": "code",
   "execution_count": null,
   "metadata": {},
   "outputs": [],
   "source": [
    "#!/usr/bin/env python\n",
    "# coding: utf-8\n",
    "import time\n",
    "from openpyxl import Workbook, load_workbook\n",
    "from openpyxl.utils import get_column_letter\n",
    "from selenium import webdriver\n",
    "from selenium.webdriver.common.keys import Keys\n",
    "from selenium.webdriver.common.by import By\n",
    "from selenium.webdriver.support.ui import WebDriverWait\n",
    "from selenium.webdriver.support import expected_conditions as ec"
   ]
  },
  {
   "cell_type": "code",
   "execution_count": null,
   "metadata": {},
   "outputs": [],
   "source": [
    "def init():\n",
    "    year_list = ['97', '98', '99', '100', '101', '102', '103', '104', '105', '106', '107']\n",
    "    twse_list = ['2380', '2381', '2382', '2383', '2384', '2385', '2386', '2387'\n",
    "                 , '2388', '2389', '2390', '2391', '2392', '2393', '2394', '2395'\n",
    "                 , '2396', '2397', '2398', '2399', '2401', '2402', '2403', '2404'\n",
    "                 , '2405', '2406', '2407', '2408', '2409', '2410', '2411', '2412'\n",
    "                 , '2413', '2414', '2415', '2416', '2417']\n",
    "    tpex_list = ['5210', '5211', '5212', '5213', '5301', '5302', '5304', '5305'\n",
    "                 , '5306', '5307', '5309', '5310', '5312', '5314', '5315', '5317'\n",
    "                 , '5318', '5321', '5324', '5325', '5326', '5328', '5336', '5340'\n",
    "                 , '5344', '5345', '5346', '5347', '5348', '5349', '5351', '5353'\n",
    "                 , '5355', '5356', '5364', '5371', '5372', '5375', '5376', '5381'\n",
    "                 , '5383', '5384', '5385']\n",
    "    #print('year_list Length: ', len(year_list))\n",
    "    #print('twse_list Length: ', len(twse_list))\n",
    "    #print('tpex_list Length: ', len(tpex_list))\n",
    "    \n",
    "    return year_list, twse_list, tpex_list"
   ]
  },
  {
   "cell_type": "code",
   "execution_count": null,
   "metadata": {},
   "outputs": [],
   "source": [
    "def driver_open():\n",
    "    browser = webdriver.Chrome() #需安裝驅動\n",
    "    browser.get('http://mops.twse.com.tw/mops/web/t05st01')\n",
    "    return browser"
   ]
  },
  {
   "cell_type": "code",
   "execution_count": null,
   "metadata": {},
   "outputs": [],
   "source": [
    "def driver_close(browser):\n",
    "    browser.quit()"
   ]
  },
  {
   "cell_type": "code",
   "execution_count": null,
   "metadata": {},
   "outputs": [],
   "source": [
    "def input_text(index, xpath):\n",
    "    inputbox = browser.find_element_by_xpath(xpath)\n",
    "    inputbox.clear()\n",
    "    inputbox.send_keys(str(index) + Keys.RETURN)"
   ]
  },
  {
   "cell_type": "code",
   "execution_count": null,
   "metadata": {},
   "outputs": [],
   "source": [
    "def WebWaitXpath(s):\n",
    "    try:\n",
    "        xpath = s\n",
    "        WebDriverWait(browser, 2).until(ec.visibility_of_element_located((By.XPATH, xpath)))\n",
    "        return True\n",
    "    except Exception as e:\n",
    "        print(e)"
   ]
  },
  {
   "cell_type": "code",
   "execution_count": null,
   "metadata": {},
   "outputs": [],
   "source": [
    "def ChangeToPopUpWindow(index):\n",
    "    browser.find_element_by_xpath('//*[@id=\"t05st01_fm\"]/table/tbody/tr[' + str(index) + ']/td[6]/input').click()\n",
    "    window_after = browser.window_handles[1] #獲取彈出視窗資訊\n",
    "    browser.switch_to_window(window_after) #焦點切換到彈出視窗"
   ]
  },
  {
   "cell_type": "code",
   "execution_count": null,
   "metadata": {},
   "outputs": [],
   "source": [
    "def BackToSourceWindow(window_before):\n",
    "    browser.close() #關閉彈出視窗\n",
    "    browser.switch_to_window(window_before) #將焦點切回原先視窗"
   ]
  },
  {
   "cell_type": "code",
   "execution_count": null,
   "metadata": {},
   "outputs": [],
   "source": [
    "def ListToDict(length, l_title, l_content):\n",
    "    d_details = {}\n",
    "    for i in range(0, length):\n",
    "        d_details[l_title[i]] = l_content[i]\n",
    "    return d_details"
   ]
  },
  {
   "cell_type": "code",
   "execution_count": null,
   "metadata": {},
   "outputs": [],
   "source": [
    "def get_data():\n",
    "    try:\n",
    "        time.sleep(2) #等待5s 再次點擊\n",
    "        WebWaitXpath('//*[@id=\"table01\"]/table[2]/tbody/tr[1]/td/b') #等待元件讀取\n",
    "        l_title = []\n",
    "        l_content = []\n",
    "        table_path = '//*[@id=\"table01\"]/table[3]/tbody'\n",
    "        col_path = browser.find_elements_by_xpath(table_path + '/tr') #欄位置\n",
    "        for i in range(1, len(col_path) + 1):\n",
    "            row_path = browser.find_elements_by_xpath(table_path + '/tr[' + str(i) + ']/td') #列位置\n",
    "            for j in range(1, len(row_path) + 1):\n",
    "                if not (j % 2 == 0):\n",
    "                    title = browser.find_element_by_xpath(table_path + '/tr[' + str(i) + ']/td[' + str(j) + ']').text #標題\n",
    "                    l_title.append(title)\n",
    "                elif(i == len(col_path) and j == len(row_path)):\n",
    "                    content = browser.find_element_by_xpath(table_path + '/tr[' + str(i) + ']/td[' + str(j) + ']').text.split('\\n') #說明部分切割成List\n",
    "                    for k in content:\n",
    "                        k.lstrip().rstrip()\n",
    "                    l_content.append(content)\n",
    "                else:\n",
    "                    content = browser.find_element_by_xpath(table_path + '/tr[' + str(i) + ']/td[' + str(j) + ']').text.lstrip().rstrip() #內容 去左右空白\n",
    "                    l_content.append(content)\n",
    "        return ListToDict(len(l_title), l_title, l_content)\n",
    "    except:\n",
    "        print('Get Data Error!')\n",
    "        return False"
   ]
  },
  {
   "cell_type": "code",
   "execution_count": null,
   "metadata": {},
   "outputs": [],
   "source": [
    "def input_data(sheet, d_details):\n",
    "    data = [['序號', d_details['序號']],\n",
    "        ['發言日期', d_details['發言日期']],\n",
    "        ['發言時間', d_details['發言時間']],\n",
    "        ['發言人', d_details['發言人']],\n",
    "        ['發言人職稱', d_details['發言人職稱']],\n",
    "        ['發言人電話', d_details['發言人電話']],\n",
    "        ['主旨', d_details['主旨']],\n",
    "        ['符合條款', d_details['符合條款']],\n",
    "        ['事實發生日', d_details['事實發生日']]]\n",
    "    for row in data:\n",
    "        sheet.append(row) #輸入資料\n",
    "    for i in range(0, len(d_details['說明'])):\n",
    "        if(i == 0):\n",
    "            sheet.append(['說明', d_details['說明'][i]])\n",
    "        else:\n",
    "            sheet.append(['', d_details['說明'][i]])"
   ]
  },
  {
   "cell_type": "code",
   "execution_count": null,
   "metadata": {},
   "outputs": [],
   "source": [
    "def CreateExcel(Listed_id, Listed_year, d_details):\n",
    "    wb = Workbook() #創建第一個工作表\n",
    "    frist_sheet = wb.active\n",
    "    datetime = d_details['發言日期'].replace('/', '.')\n",
    "    sheet_name = datetime + '-' + d_details['序號'] #工作表名稱\n",
    "    frist_sheet.title = sheet_name\n",
    "    input_data(frist_sheet, d_details) #資料輸入資料表\n",
    "    _filename = str(Listed_id + '-' + Listed_year + '.xlsx')\n",
    "    wb.save(filename = _filename)\n",
    "    print('excel_name: ', _filename)\n",
    "    print('sheet_name: ', sheet_name)\n",
    "    return _filename"
   ]
  },
  {
   "cell_type": "code",
   "execution_count": null,
   "metadata": {},
   "outputs": [],
   "source": [
    "def ReadExcel(d_details, excel_name):\n",
    "    wb = load_workbook(excel_name) #讀取工作表\n",
    "    datetime = d_details['發言日期'].replace('/', '.')\n",
    "    sheet_name = datetime + '-' + d_details['序號']\n",
    "    sheet = wb.create_sheet(sheet_name)\n",
    "    input_data(sheet, d_details)\n",
    "    wb.save(filename = excel_name)\n",
    "    print('excel_name: ', excel_name)\n",
    "    print('sheet_name: ', sheet_name)"
   ]
  },
  {
   "cell_type": "code",
   "execution_count": null,
   "metadata": {},
   "outputs": [],
   "source": [
    "def DataToExcel(isFrist, Listed_id, Listed_year, d_details, excel_name):\n",
    "    if(isFrist): #建立工作表\n",
    "        return CreateExcel(Listed_id, Listed_year, d_details)\n",
    "    else: #讀取工作表並新增工作表\n",
    "        ReadExcel(d_details, excel_name)"
   ]
  },
  {
   "cell_type": "code",
   "execution_count": null,
   "metadata": {},
   "outputs": [],
   "source": [
    "def get_year_message(Listed):\n",
    "    for i in Listed:\n",
    "        input_text(i, '//*[@id=\"co_id\"]') #公司代號或簡稱\n",
    "        for j in year_range_list:\n",
    "            input_text(j, '//*[@id=\"year\"]') #年度\n",
    "            print('id: %s\\tyear: %s' % (i, j))\n",
    "            btn_search = browser.find_element_by_xpath(\"//input[@type='button' and @value=' 查詢 ']\") #查詢按鈕\n",
    "            btn_search.click()\n",
    "            time.sleep(2) #等待3s\n",
    "            again = True\n",
    "            while(again):\n",
    "                if(WebWaitXpath('//*[@id=\"t05st01_fm\"]/table/tbody/tr[2]/td[3]')): #等待元件讀取\n",
    "                    again = False\n",
    "                    isFrist = True\n",
    "                    excel_name = ''\n",
    "                    window_before = browser.window_handles[0] #獲取來源網頁資訊\n",
    "                    btn_details = browser.find_elements_by_xpath('//*[@id=\"t05st01_fm\"]/table/tbody/tr') #詳細資料按鈕\n",
    "                    for k in range(2, len(btn_details) + 1): #迭代每則重大消息按鈕\n",
    "                        print('第' + str(k - 1) + '個按鈕')\n",
    "                        again_data = True\n",
    "                        while(again_data):\n",
    "                            ChangeToPopUpWindow(k) #改變視窗焦點\n",
    "                            if(get_data() == False):\n",
    "                                BackToSourceWindow(window_before)\n",
    "                            else:\n",
    "                                print('Get Data OK!')\n",
    "                                again_data = False\n",
    "                                d_details = get_data()\n",
    "                        if(k == 2): #判斷是否為首個「詳細資料」按鈕\n",
    "                            excel_name = DataToExcel(isFrist, i, j, d_details, excel_name)\n",
    "                            isFrist = False\n",
    "                        else:\n",
    "                            DataToExcel(isFrist, i, j, d_details, excel_name)\n",
    "                        BackToSourceWindow(window_before)\n",
    "                        time.sleep(2) #等待2s 再次搜尋下一年\n",
    "                else:\n",
    "                    if (browser.find_elements_by_xpath('//*[@id=\"table01\"]/center/h3')):\n",
    "                        print('該 %s 公開發行公司不繼續公開發行！' % i)\n",
    "                        break\n",
    "                    else:\n",
    "                        time.sleep(10) #等待10s\n",
    "                        browser.refresh() #刷新網頁"
   ]
  },
  {
   "cell_type": "code",
   "execution_count": null,
   "metadata": {},
   "outputs": [],
   "source": [
    "if __name__ == '__main__':\n",
    "    try:\n",
    "        browser = driver_open()\n",
    "        year_range_list, stock_Id_TWSE_Listed, stock_Id_TPEx_Listed = init()\n",
    "\t\tget_year_message(stock_Id_TWSE_Listed) #上市公司\n",
    "        #get_year_message(stock_Id_TPEx_Listed) #上櫃公司\n",
    "    except:\n",
    "        driver_close(browser)\n",
    "        print('Driver Close!')"
   ]
  }
 ],
 "metadata": {
  "kernelspec": {
   "display_name": "Python 3",
   "language": "python",
   "name": "python3"
  },
  "language_info": {
   "codemirror_mode": {
    "name": "ipython",
    "version": 3
   },
   "file_extension": ".py",
   "mimetype": "text/x-python",
   "name": "python",
   "nbconvert_exporter": "python",
   "pygments_lexer": "ipython3",
   "version": "3.6.8"
  }
 },
 "nbformat": 4,
 "nbformat_minor": 2
}
